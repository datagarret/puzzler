{
 "cells": [
  {
   "cell_type": "code",
   "execution_count": 10,
   "metadata": {
    "collapsed": true
   },
   "outputs": [],
   "source": [
    "import pandas as pd\n",
    "import numpy as np\n",
    "import math\n",
    "%matplotlib inline"
   ]
  },
  {
   "cell_type": "markdown",
   "metadata": {},
   "source": [
    "## Problem #2: Chace contact"
   ]
  },
  {
   "cell_type": "code",
   "execution_count": 11,
   "metadata": {
    "collapsed": false
   },
   "outputs": [],
   "source": [
    "def windowMeet(lil_wait,bill_wait,time_window):\n",
    "    '''Random time of arrival of two people in a given window; each person will\n",
    "    wait a certain amount of time if they arrive first. Assumes they do come in and not\n",
    "    before or after window ends. Begin window = 0. All parameters must be same unit of time to work'''\n",
    "    lil_arrive_time = np.random.random()*time_window\n",
    "    bill_arrive_time = np.random.random()*time_window\n",
    "    \n",
    "    #determine first arrival, calcs when person leaves, 2nd arrival < window_edge == success\n",
    "    if lil_arrive_time < bill_arrive_time:\n",
    "        window_edge = lil_arrive_time + lil_wait\n",
    "        return bill_arrive_time<window_edge\n",
    "    else:\n",
    "        window_edge = bill_arrive_time + bill_wait\n",
    "        return lil_arrive_time<window_edge\n",
    "\n",
    "#changes the time window from 1 minute to 150 minute window each window x amount inner loop\n",
    "measurement_array = np.array([[windowMeet(7,7,time) for i in range(10000)] for time in range(150)])\n",
    "mean_array = np.mean(measurement_array,axis=1)"
   ]
  },
  {
   "cell_type": "code",
   "execution_count": 12,
   "metadata": {
    "collapsed": false
   },
   "outputs": [
    {
     "data": {
      "text/plain": [
       "<matplotlib.axes._subplots.AxesSubplot at 0x11039ecc0>"
      ]
     },
     "execution_count": 12,
     "metadata": {},
     "output_type": "execute_result"
    },
    {
     "data": {
      "image/png": "[encoded data removed]",
      "text/plain": [
       "<matplotlib.figure.Figure at 0x1103ac7f0>"
      ]
     },
     "metadata": {},
     "output_type": "display_data"
    }
   ],
   "source": [
    "pd.Series(mean_array).plot()"
   ]
  },
  {
   "cell_type": "markdown",
   "metadata": {},
   "source": [
    "## Problem #3 Mutual Nearest Neighbors"
   ]
  },
  {
   "cell_type": "code",
   "execution_count": 2,
   "metadata": {
    "collapsed": false
   },
   "outputs": [],
   "source": [
    "def carsMutualNN(car_count):\n",
    "    '''If a car has a nearest neighbor what is the chance the nearest neighbor is mutual'''\n",
    "    #creates a random sequence of cars between 0 and 1 and sorts\n",
    "    rand_car_array = np.random.random(car_count)\n",
    "    rand_car_array.sort()\n",
    "    #backcar_dist and frontcar_dist measure distance of the cars adjacent; \n",
    "    backcar_dist = abs(np.append(rand_car_array[1], rand_car_array[:-1])-rand_car_array)\n",
    "    frontcar_dist = abs(np.append(rand_car_array[1:], rand_car_array[-2])-rand_car_array)\n",
    "    #nn incrementss or decrements depending on which car is closer\n",
    "    #cars at edges only have one neighbor so auto inc or dec\n",
    "    nn = np.arange(0,car_count)\n",
    "    nn += frontcar_dist<backcar_dist\n",
    "    nn -= frontcar_dist>backcar_dist\n",
    "    nn[0]+=1\n",
    "    nn[car_count-1]-=1\n",
    "    #selects a random car array and selects by index; then selects car's nn\n",
    "    rand = np.random.randint(0,car_count)\n",
    "    rand_car_nn = nn[rand]\n",
    "    #looks up the random car's nearest neighbor nearest neighbor\n",
    "    rand_car_nn_nn = nn[rand_car_nn]\n",
    "    #if equivalent they are mutual return True\n",
    "    return rand_car_nn_nn == rand"
   ]
  },
  {
   "cell_type": "code",
   "execution_count": 3,
   "metadata": {
    "collapsed": false,
    "scrolled": true
   },
   "outputs": [
    {
     "data": {
      "text/plain": [
       "{3: 6674,\n",
       " 4: 6628,\n",
       " 5: 6622,\n",
       " 6: 6634,\n",
       " 7: 6685,\n",
       " 8: 6693,\n",
       " 9: 6710,\n",
       " 10: 6612,\n",
       " 11: 6589,\n",
       " 12: 6639,\n",
       " 13: 6771,\n",
       " 14: 6695,\n",
       " 15: 6712,\n",
       " 16: 6668,\n",
       " 17: 6743,\n",
       " 18: 6617,\n",
       " 19: 6665,\n",
       " 20: 6645,\n",
       " 21: 6633,\n",
       " 22: 6556,\n",
       " 23: 6700,\n",
       " 24: 6709,\n",
       " 25: 6668,\n",
       " 26: 6682,\n",
       " 27: 6726,\n",
       " 28: 6665,\n",
       " 29: 6640,\n",
       " 30: 6676,\n",
       " 31: 6723,\n",
       " 32: 6526,\n",
       " 33: 6679,\n",
       " 34: 6632}"
      ]
     },
     "execution_count": 3,
     "metadata": {},
     "output_type": "execute_result"
    }
   ],
   "source": [
    "cars_in_line = 35\n",
    "trial_count = 10000\n",
    "dic_counter={i:0 for i in range(3,cars_in_line)}\n",
    "for x in range(3,cars_in_line):\n",
    "    for y in range(trial_count):\n",
    "        dic_counter[x] += carsMutualNN(x)\n",
    "dic_counter"
   ]
  },
  {
   "cell_type": "markdown",
   "metadata": {},
   "source": [
    "## problem #4: Funny Coin Game"
   ]
  },
  {
   "cell_type": "code",
   "execution_count": 14,
   "metadata": {
    "collapsed": false,
    "scrolled": true
   },
   "outputs": [],
   "source": [
    "def ccfg(l,m,n,p):\n",
    "    '''Number of games it takes until one of three players is bankrupt. l,m,n is\n",
    "    amount of coins each player has. p is probability of flipping heads (or Tails)'''\n",
    "    game_counter = 0\n",
    "    player_dic = {0:l,1:m,2:n}\n",
    "    while player_dic[0]>0 and player_dic[1]>0 and player_dic[2]>0:\n",
    "        #each player flips a coin. If flip is below p it is Heads == 1\n",
    "        flips = np.random.random(size=3)<p\n",
    "        #No player wins if coins are HHH|TTT; count incs w/ no change in wealth\n",
    "        if sum(flips)==3 or sum(flips)==0:\n",
    "            game_counter+=1\n",
    "            continue\n",
    "        #if flips adds to 2, player who flipped Tails == 0 wins; identify player\n",
    "        elif sum(flips)==2:\n",
    "            winner = np.where(flips==0)[0][0]\n",
    "        #if flips adds to 1, player who flipped Heads == 1 wins; indentify player\n",
    "        else:\n",
    "            winner = np.where(flips==1)[0][0]\n",
    "        #winner gets 1 coin from each losing player; game counter increments\n",
    "        player_dic[winner] += 2\n",
    "        loser_list = [i for i in range(3) if i != winner]\n",
    "        player_dic[loser_list[0]] -= 1\n",
    "        player_dic[loser_list[1]] -= 1\n",
    "        game_counter += 1\n",
    "    return game_counter\n",
    "\n",
    "list_of_samples = np.array([[ccfg(1,2,3,.5) for y in range(100)] for x in range(100)])\n",
    "sample = np.mean(list_of_samples, axis=0)"
   ]
  },
  {
   "cell_type": "code",
   "execution_count": 19,
   "metadata": {
    "collapsed": false
   },
   "outputs": [
    {
     "data": {
      "text/plain": [
       "1.9994000000000001"
      ]
     },
     "execution_count": 19,
     "metadata": {},
     "output_type": "execute_result"
    },
    {
     "data": {
      "image/png": "[encoded data removed]",
      "text/plain": [
       "<matplotlib.figure.Figure at 0x11404d9b0>"
      ]
     },
     "metadata": {},
     "output_type": "display_data"
    }
   ],
   "source": [
    "pd.Series(sample).hist();\n",
    "sample.mean()"
   ]
  },
  {
   "cell_type": "code",
   "execution_count": null,
   "metadata": {
    "collapsed": true
   },
   "outputs": [],
   "source": []
  }
 ],
 "metadata": {
  "kernelspec": {
   "display_name": "Python 3",
   "language": "python",
   "name": "python3"
  },
  "language_info": {
   "codemirror_mode": {
    "name": "ipython",
    "version": 3
   },
   "file_extension": ".py",
   "mimetype": "text/x-python",
   "name": "python",
   "nbconvert_exporter": "python",
   "pygments_lexer": "ipython3",
   "version": "3.5.2"
  }
 },
 "nbformat": 4,
 "nbformat_minor": 0
}
