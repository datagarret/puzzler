{
 "cells": [
  {
   "cell_type": "markdown",
   "metadata": {},
   "source": [
    "The question poses that if we have a box of 4 balls of different colors and we select one ball randomly and note the ball's color. Prior to putting the ball back into the box we select another ball and color our second ball the same color as the firsts.\n",
    "\n",
    "We then replace both balls back into the box. The question is how many turns on average does it take until the box is full of balls with the same color?\n",
    "\n",
    "https://fivethirtyeight.com/features/can-you-solve-these-colorful-puzzles/\n",
    "\n",
    "Nothing fancy here."
   ]
  },
  {
   "cell_type": "code",
   "execution_count": 1,
   "metadata": {
    "collapsed": false
   },
   "outputs": [],
   "source": [
    "import random\n",
    "import numpy as np\n",
    "import pandas as pd\n",
    "from collections import Counter\n",
    "\n",
    "%matplotlib inline"
   ]
  },
  {
   "cell_type": "code",
   "execution_count": null,
   "metadata": {
    "collapsed": false
   },
   "outputs": [],
   "source": [
    "def listSame(iterator):\n",
    "    'Returns True until all values within iterator are equal'\n",
    "    return len(set(iterator)) > 1\n",
    "\n",
    "experiment_rec = {}\n",
    "\n",
    "#range from 4 balls to 30 balls \n",
    "for ball_count in range(4,30):\n",
    "    #records number of counts per trial\n",
    "    trial_rec = []\n",
    "    for x in range(5000):\n",
    "        #our box of marbles each starting with a different color i.e. int \n",
    "        box_o_ball = {i:i for i in range(ball_count)}\n",
    "        #we set a counter for each turn\n",
    "        count = 0\n",
    "        #repeat until all balls have same value\n",
    "        while listSame(box_o_ball.values()) == True:\n",
    "            #turn counts up\n",
    "            count+=1\n",
    "            #select random key remove that key from our selector and select another random key \n",
    "            pull_from = list(box_o_ball.keys())\n",
    "            pull_1 = np.random.choice(pull_from)\n",
    "            pull_from.remove(pull_1)\n",
    "            pull_2 = np.random.choice(pull_from)\n",
    "            #assign value of first ball to second\n",
    "            box_o_ball[pull_2] = box_o_ball[pull_1]\n",
    "        trial_rec.append(count)\n",
    "    \n",
    "    experiment_rec[ball_count] = trial_rec\n",
    "    \n",
    "exp_df = pd.DataFrame(experiment_rec)"
   ]
  },
  {
   "cell_type": "code",
   "execution_count": null,
   "metadata": {
    "collapsed": true
   },
   "outputs": [],
   "source": [
    "exp_df.describe()"
   ]
  },
  {
   "cell_type": "code",
   "execution_count": null,
   "metadata": {
    "collapsed": false
   },
   "outputs": [],
   "source": [
    "exp_df.plot(kind='box',figsize=(12,8));"
   ]
  },
  {
   "cell_type": "code",
   "execution_count": null,
   "metadata": {
    "collapsed": false
   },
   "outputs": [],
   "source": [
    "exp_df.describe().ix['25%'].plot(figsize=(12,8));\n",
    "exp_df.describe().ix['mean'].plot(figsize=(12,8));\n",
    "exp_df.describe().ix['75%'].plot(figsize=(12,8));"
   ]
  },
  {
   "cell_type": "code",
   "execution_count": null,
   "metadata": {
    "collapsed": true
   },
   "outputs": [],
   "source": []
  }
 ],
 "metadata": {
  "kernelspec": {
   "display_name": "Python 3",
   "language": "python",
   "name": "python3"
  },
  "language_info": {
   "codemirror_mode": {
    "name": "ipython",
    "version": 3
   },
   "file_extension": ".py",
   "mimetype": "text/x-python",
   "name": "python",
   "nbconvert_exporter": "python",
   "pygments_lexer": "ipython3",
   "version": "3.5.2"
  }
 },
 "nbformat": 4,
 "nbformat_minor": 0
}
